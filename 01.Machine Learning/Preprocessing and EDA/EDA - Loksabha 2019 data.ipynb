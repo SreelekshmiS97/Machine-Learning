{
 "cells": [
  {
   "cell_type": "code",
   "execution_count": 1,
   "metadata": {},
   "outputs": [],
   "source": [
    "#to avoid warnings\n",
    "import warnings\n",
    "warnings.filterwarnings(\"ignore\")"
   ]
  },
  {
   "cell_type": "code",
   "execution_count": 2,
   "metadata": {},
   "outputs": [],
   "source": [
    "import pandas as pd\n",
    "import matplotlib.pyplot as plt\n",
    "import seaborn as sns"
   ]
  },
  {
   "cell_type": "code",
   "execution_count": 3,
   "metadata": {},
   "outputs": [],
   "source": [
    "data=pd.read_csv(\"data/Loksabha2019.csv\")"
   ]
  },
  {
   "cell_type": "code",
   "execution_count": 4,
   "metadata": {},
   "outputs": [
    {
     "data": {
      "text/html": [
       "<div>\n",
       "<style scoped>\n",
       "    .dataframe tbody tr th:only-of-type {\n",
       "        vertical-align: middle;\n",
       "    }\n",
       "\n",
       "    .dataframe tbody tr th {\n",
       "        vertical-align: top;\n",
       "    }\n",
       "\n",
       "    .dataframe thead th {\n",
       "        text-align: right;\n",
       "    }\n",
       "</style>\n",
       "<table border=\"1\" class=\"dataframe\">\n",
       "  <thead>\n",
       "    <tr style=\"text-align: right;\">\n",
       "      <th></th>\n",
       "      <th>STATE</th>\n",
       "      <th>CONSTITUENCY</th>\n",
       "      <th>NAME</th>\n",
       "      <th>WINNER</th>\n",
       "      <th>PARTY</th>\n",
       "      <th>SYMBOL</th>\n",
       "      <th>GENDER</th>\n",
       "      <th>CRIMINAL\\r\\nCASES</th>\n",
       "      <th>AGE</th>\n",
       "      <th>CATEGORY</th>\n",
       "      <th>EDUCATION</th>\n",
       "      <th>ASSETS</th>\n",
       "      <th>LIABILITIES</th>\n",
       "      <th>GENERAL\\r\\nVOTES</th>\n",
       "      <th>POSTAL\\r\\nVOTES</th>\n",
       "      <th>TOTAL\\r\\nVOTES</th>\n",
       "      <th>OVER TOTAL ELECTORS \\r\\nIN CONSTITUENCY</th>\n",
       "      <th>OVER TOTAL VOTES POLLED \\r\\nIN CONSTITUENCY</th>\n",
       "      <th>TOTAL ELECTORS</th>\n",
       "    </tr>\n",
       "  </thead>\n",
       "  <tbody>\n",
       "    <tr>\n",
       "      <th>0</th>\n",
       "      <td>Telangana</td>\n",
       "      <td>ADILABAD</td>\n",
       "      <td>SOYAM BAPU RAO</td>\n",
       "      <td>1</td>\n",
       "      <td>BJP</td>\n",
       "      <td>Lotus</td>\n",
       "      <td>MALE</td>\n",
       "      <td>52</td>\n",
       "      <td>52.0</td>\n",
       "      <td>ST</td>\n",
       "      <td>12th Pass</td>\n",
       "      <td>Rs 30,99,414\\r\\n ~ 30 Lacs+</td>\n",
       "      <td>Rs 2,31,450\\r\\n ~ 2 Lacs+</td>\n",
       "      <td>376892</td>\n",
       "      <td>482</td>\n",
       "      <td>377374</td>\n",
       "      <td>25.330684</td>\n",
       "      <td>35.468248</td>\n",
       "      <td>1489790</td>\n",
       "    </tr>\n",
       "    <tr>\n",
       "      <th>1</th>\n",
       "      <td>Telangana</td>\n",
       "      <td>ADILABAD</td>\n",
       "      <td>Godam Nagesh</td>\n",
       "      <td>0</td>\n",
       "      <td>TRS</td>\n",
       "      <td>Car</td>\n",
       "      <td>MALE</td>\n",
       "      <td>0</td>\n",
       "      <td>54.0</td>\n",
       "      <td>ST</td>\n",
       "      <td>Post Graduate</td>\n",
       "      <td>Rs 1,84,77,888\\r\\n ~ 1 Crore+</td>\n",
       "      <td>Rs 8,47,000\\r\\n ~ 8 Lacs+</td>\n",
       "      <td>318665</td>\n",
       "      <td>149</td>\n",
       "      <td>318814</td>\n",
       "      <td>21.399929</td>\n",
       "      <td>29.964370</td>\n",
       "      <td>1489790</td>\n",
       "    </tr>\n",
       "    <tr>\n",
       "      <th>2</th>\n",
       "      <td>Telangana</td>\n",
       "      <td>ADILABAD</td>\n",
       "      <td>RATHOD RAMESH</td>\n",
       "      <td>0</td>\n",
       "      <td>INC</td>\n",
       "      <td>Hand</td>\n",
       "      <td>MALE</td>\n",
       "      <td>3</td>\n",
       "      <td>52.0</td>\n",
       "      <td>ST</td>\n",
       "      <td>12th Pass</td>\n",
       "      <td>Rs 3,64,91,000\\r\\n ~ 3 Crore+</td>\n",
       "      <td>Rs 1,53,00,000\\r\\n ~ 1 Crore+</td>\n",
       "      <td>314057</td>\n",
       "      <td>181</td>\n",
       "      <td>314238</td>\n",
       "      <td>21.092771</td>\n",
       "      <td>29.534285</td>\n",
       "      <td>1489790</td>\n",
       "    </tr>\n",
       "    <tr>\n",
       "      <th>3</th>\n",
       "      <td>Telangana</td>\n",
       "      <td>ADILABAD</td>\n",
       "      <td>NOTA</td>\n",
       "      <td>0</td>\n",
       "      <td>NOTA</td>\n",
       "      <td>NaN</td>\n",
       "      <td>NaN</td>\n",
       "      <td>NaN</td>\n",
       "      <td>NaN</td>\n",
       "      <td>NaN</td>\n",
       "      <td>NaN</td>\n",
       "      <td>NaN</td>\n",
       "      <td>NaN</td>\n",
       "      <td>13030</td>\n",
       "      <td>6</td>\n",
       "      <td>13036</td>\n",
       "      <td>0.875023</td>\n",
       "      <td>1.225214</td>\n",
       "      <td>1489790</td>\n",
       "    </tr>\n",
       "    <tr>\n",
       "      <th>4</th>\n",
       "      <td>Uttar Pradesh</td>\n",
       "      <td>AGRA</td>\n",
       "      <td>Satyapal Singh Baghel</td>\n",
       "      <td>1</td>\n",
       "      <td>BJP</td>\n",
       "      <td>Lotus</td>\n",
       "      <td>MALE</td>\n",
       "      <td>5</td>\n",
       "      <td>58.0</td>\n",
       "      <td>SC</td>\n",
       "      <td>Doctorate</td>\n",
       "      <td>Rs 7,42,74,036\\r\\n ~ 7 Crore+</td>\n",
       "      <td>Rs 86,06,522\\r\\n ~ 86 Lacs+</td>\n",
       "      <td>644459</td>\n",
       "      <td>2416</td>\n",
       "      <td>646875</td>\n",
       "      <td>33.383823</td>\n",
       "      <td>56.464615</td>\n",
       "      <td>1937690</td>\n",
       "    </tr>\n",
       "  </tbody>\n",
       "</table>\n",
       "</div>"
      ],
      "text/plain": [
       "           STATE CONSTITUENCY                   NAME  WINNER PARTY SYMBOL  \\\n",
       "0      Telangana     ADILABAD         SOYAM BAPU RAO       1   BJP  Lotus   \n",
       "1      Telangana     ADILABAD           Godam Nagesh       0   TRS    Car   \n",
       "2      Telangana     ADILABAD          RATHOD RAMESH       0   INC   Hand   \n",
       "3      Telangana     ADILABAD                   NOTA       0  NOTA    NaN   \n",
       "4  Uttar Pradesh         AGRA  Satyapal Singh Baghel       1   BJP  Lotus   \n",
       "\n",
       "  GENDER CRIMINAL\\r\\nCASES   AGE CATEGORY      EDUCATION  \\\n",
       "0   MALE                52  52.0       ST      12th Pass   \n",
       "1   MALE                 0  54.0       ST  Post Graduate   \n",
       "2   MALE                 3  52.0       ST      12th Pass   \n",
       "3    NaN               NaN   NaN      NaN            NaN   \n",
       "4   MALE                 5  58.0       SC      Doctorate   \n",
       "\n",
       "                          ASSETS                    LIABILITIES  \\\n",
       "0    Rs 30,99,414\\r\\n ~ 30 Lacs+      Rs 2,31,450\\r\\n ~ 2 Lacs+   \n",
       "1  Rs 1,84,77,888\\r\\n ~ 1 Crore+      Rs 8,47,000\\r\\n ~ 8 Lacs+   \n",
       "2  Rs 3,64,91,000\\r\\n ~ 3 Crore+  Rs 1,53,00,000\\r\\n ~ 1 Crore+   \n",
       "3                            NaN                            NaN   \n",
       "4  Rs 7,42,74,036\\r\\n ~ 7 Crore+    Rs 86,06,522\\r\\n ~ 86 Lacs+   \n",
       "\n",
       "   GENERAL\\r\\nVOTES  POSTAL\\r\\nVOTES  TOTAL\\r\\nVOTES  \\\n",
       "0            376892              482          377374   \n",
       "1            318665              149          318814   \n",
       "2            314057              181          314238   \n",
       "3             13030                6           13036   \n",
       "4            644459             2416          646875   \n",
       "\n",
       "   OVER TOTAL ELECTORS \\r\\nIN CONSTITUENCY  \\\n",
       "0                                25.330684   \n",
       "1                                21.399929   \n",
       "2                                21.092771   \n",
       "3                                 0.875023   \n",
       "4                                33.383823   \n",
       "\n",
       "   OVER TOTAL VOTES POLLED \\r\\nIN CONSTITUENCY  TOTAL ELECTORS  \n",
       "0                                    35.468248         1489790  \n",
       "1                                    29.964370         1489790  \n",
       "2                                    29.534285         1489790  \n",
       "3                                     1.225214         1489790  \n",
       "4                                    56.464615         1937690  "
      ]
     },
     "execution_count": 4,
     "metadata": {},
     "output_type": "execute_result"
    }
   ],
   "source": [
    "data.head()"
   ]
  },
  {
   "cell_type": "code",
   "execution_count": 5,
   "metadata": {},
   "outputs": [
    {
     "data": {
      "text/plain": [
       "STATE                                            0\n",
       "CONSTITUENCY                                     0\n",
       "NAME                                             0\n",
       "WINNER                                           0\n",
       "PARTY                                            0\n",
       "SYMBOL                                         245\n",
       "GENDER                                         245\n",
       "CRIMINAL\\r\\nCASES                              245\n",
       "AGE                                            245\n",
       "CATEGORY                                       245\n",
       "EDUCATION                                      245\n",
       "ASSETS                                         245\n",
       "LIABILITIES                                    245\n",
       "GENERAL\\r\\nVOTES                                 0\n",
       "POSTAL\\r\\nVOTES                                  0\n",
       "TOTAL\\r\\nVOTES                                   0\n",
       "OVER TOTAL ELECTORS \\r\\nIN CONSTITUENCY          0\n",
       "OVER TOTAL VOTES POLLED \\r\\nIN CONSTITUENCY      0\n",
       "TOTAL ELECTORS                                   0\n",
       "dtype: int64"
      ]
     },
     "execution_count": 5,
     "metadata": {},
     "output_type": "execute_result"
    }
   ],
   "source": [
    "data.isna().sum()"
   ]
  },
  {
   "cell_type": "code",
   "execution_count": 6,
   "metadata": {},
   "outputs": [],
   "source": [
    "#removing rows with NOTA\n",
    "data=data.drop(data[data['PARTY']=='NOTA'].index)"
   ]
  },
  {
   "cell_type": "code",
   "execution_count": 7,
   "metadata": {},
   "outputs": [
    {
     "data": {
      "text/plain": [
       "STATE                                          0\n",
       "CONSTITUENCY                                   0\n",
       "NAME                                           0\n",
       "WINNER                                         0\n",
       "PARTY                                          0\n",
       "SYMBOL                                         0\n",
       "GENDER                                         0\n",
       "CRIMINAL\\r\\nCASES                              0\n",
       "AGE                                            0\n",
       "CATEGORY                                       0\n",
       "EDUCATION                                      0\n",
       "ASSETS                                         0\n",
       "LIABILITIES                                    0\n",
       "GENERAL\\r\\nVOTES                               0\n",
       "POSTAL\\r\\nVOTES                                0\n",
       "TOTAL\\r\\nVOTES                                 0\n",
       "OVER TOTAL ELECTORS \\r\\nIN CONSTITUENCY        0\n",
       "OVER TOTAL VOTES POLLED \\r\\nIN CONSTITUENCY    0\n",
       "TOTAL ELECTORS                                 0\n",
       "dtype: int64"
      ]
     },
     "execution_count": 7,
     "metadata": {},
     "output_type": "execute_result"
    }
   ],
   "source": [
    "data.isna().sum()"
   ]
  },
  {
   "cell_type": "code",
   "execution_count": 8,
   "metadata": {},
   "outputs": [],
   "source": [
    "def converter(x):\n",
    "    try : \n",
    "        x=x.split(\"\\n\")[0]\n",
    "        x=x.split()[1]\n",
    "        x=x.replace(\",\",\"\")\n",
    "        x=float(x)\n",
    "    except:\n",
    "        x=0\n",
    "    return x"
   ]
  },
  {
   "cell_type": "code",
   "execution_count": 9,
   "metadata": {},
   "outputs": [],
   "source": [
    "data['LIABILITIES'] = data['LIABILITIES'].apply(lambda x : converter(x)) "
   ]
  },
  {
   "cell_type": "code",
   "execution_count": 10,
   "metadata": {},
   "outputs": [],
   "source": [
    "data['ASSETS'] = data['ASSETS'].apply(lambda x : converter(x)) "
   ]
  },
  {
   "cell_type": "code",
   "execution_count": 11,
   "metadata": {},
   "outputs": [
    {
     "data": {
      "text/plain": [
       "(2018, 19)"
      ]
     },
     "execution_count": 11,
     "metadata": {},
     "output_type": "execute_result"
    }
   ],
   "source": [
    "data.shape"
   ]
  },
  {
   "cell_type": "code",
   "execution_count": 12,
   "metadata": {},
   "outputs": [
    {
     "data": {
      "text/plain": [
       "STATE                                           object\n",
       "CONSTITUENCY                                    object\n",
       "NAME                                            object\n",
       "WINNER                                           int64\n",
       "PARTY                                           object\n",
       "SYMBOL                                          object\n",
       "GENDER                                          object\n",
       "CRIMINAL\\r\\nCASES                               object\n",
       "AGE                                            float64\n",
       "CATEGORY                                        object\n",
       "EDUCATION                                       object\n",
       "ASSETS                                         float64\n",
       "LIABILITIES                                    float64\n",
       "GENERAL\\r\\nVOTES                                 int64\n",
       "POSTAL\\r\\nVOTES                                  int64\n",
       "TOTAL\\r\\nVOTES                                   int64\n",
       "OVER TOTAL ELECTORS \\r\\nIN CONSTITUENCY        float64\n",
       "OVER TOTAL VOTES POLLED \\r\\nIN CONSTITUENCY    float64\n",
       "TOTAL ELECTORS                                   int64\n",
       "dtype: object"
      ]
     },
     "execution_count": 12,
     "metadata": {},
     "output_type": "execute_result"
    }
   ],
   "source": [
    "data.dtypes"
   ]
  },
  {
   "cell_type": "code",
   "execution_count": 13,
   "metadata": {},
   "outputs": [
    {
     "data": {
      "text/plain": [
       "array(['52', '0', '3', '5', '1', '6', '2', '4', '9', '7', '40', '8', '24',\n",
       "       '14', '28', 'Not Available', '12', '11', '13', '15', '204', '10',\n",
       "       '22', '31', '42', '16', '240', '41', '18'], dtype=object)"
      ]
     },
     "execution_count": 13,
     "metadata": {},
     "output_type": "execute_result"
    }
   ],
   "source": [
    "data['CRIMINAL\\r\\nCASES'].unique()"
   ]
  },
  {
   "cell_type": "code",
   "execution_count": 14,
   "metadata": {},
   "outputs": [],
   "source": [
    "mp_criminal = {'Not Available':0}"
   ]
  },
  {
   "cell_type": "code",
   "execution_count": 15,
   "metadata": {},
   "outputs": [],
   "source": [
    "data['CRIMINAL\\r\\nCASES'] = data['CRIMINAL\\r\\nCASES'].map(mp_criminal)"
   ]
  },
  {
   "cell_type": "code",
   "execution_count": 16,
   "metadata": {},
   "outputs": [
    {
     "data": {
      "text/plain": [
       "PARTY\n",
       "IND     8\n",
       "NTK     4\n",
       "BSP     2\n",
       "INC     2\n",
       "VSIP    1\n",
       "Name: CRIMINAL\\r\\nCASES, dtype: int64"
      ]
     },
     "execution_count": 16,
     "metadata": {},
     "output_type": "execute_result"
    }
   ],
   "source": [
    "# Which party has candidates with most criminal cases?\n",
    "party_group = data.groupby('PARTY').count()['CRIMINAL\\r\\nCASES']\n",
    "party_group.sort_values(ascending = False).head()\n",
    "# IND has the most number of criminal cases"
   ]
  },
  {
   "cell_type": "code",
   "execution_count": 17,
   "metadata": {},
   "outputs": [
    {
     "data": {
      "text/plain": [
       "STATE                                           object\n",
       "CONSTITUENCY                                    object\n",
       "NAME                                            object\n",
       "WINNER                                           int64\n",
       "PARTY                                           object\n",
       "SYMBOL                                          object\n",
       "GENDER                                          object\n",
       "CRIMINAL\\r\\nCASES                              float64\n",
       "AGE                                            float64\n",
       "CATEGORY                                        object\n",
       "EDUCATION                                       object\n",
       "ASSETS                                         float64\n",
       "LIABILITIES                                    float64\n",
       "GENERAL\\r\\nVOTES                                 int64\n",
       "POSTAL\\r\\nVOTES                                  int64\n",
       "TOTAL\\r\\nVOTES                                   int64\n",
       "OVER TOTAL ELECTORS \\r\\nIN CONSTITUENCY        float64\n",
       "OVER TOTAL VOTES POLLED \\r\\nIN CONSTITUENCY    float64\n",
       "TOTAL ELECTORS                                   int64\n",
       "dtype: object"
      ]
     },
     "execution_count": 17,
     "metadata": {},
     "output_type": "execute_result"
    }
   ],
   "source": [
    "data.dtypes"
   ]
  },
  {
   "cell_type": "markdown",
   "metadata": {},
   "source": [
    "# EDA"
   ]
  },
  {
   "cell_type": "markdown",
   "metadata": {},
   "source": [
    "## Party vs Asset"
   ]
  },
  {
   "cell_type": "code",
   "execution_count": 18,
   "metadata": {},
   "outputs": [
    {
     "data": {
      "text/plain": [
       "array(['Telangana', 'Uttar Pradesh', 'Maharashtra', 'Gujarat',\n",
       "       'Rajasthan', 'Kerala', 'West Bengal', 'Uttarakhand',\n",
       "       'Andhra Pradesh', 'Haryana', 'Punjab', 'Jammu & Kashmir',\n",
       "       'Andaman & Nicobar Islands', 'Tamil Nadu', 'Bihar',\n",
       "       'Arunachal Pradesh', 'Odisha', 'Assam', 'Karnataka',\n",
       "       'Madhya Pradesh', 'Chhattisgarh', 'Chandigarh', 'NCT OF Delhi',\n",
       "       'Jharkhand', 'Dadra & Nagar Haveli', 'Daman & Diu',\n",
       "       'Himachal Pradesh', 'Manipur', 'Lakshadweep', 'Mizoram',\n",
       "       'Nagaland', 'Goa', 'Puducherry', 'Meghalaya', 'Sikkim', 'Tripura'],\n",
       "      dtype=object)"
      ]
     },
     "execution_count": 18,
     "metadata": {},
     "output_type": "execute_result"
    }
   ],
   "source": [
    "data['STATE'].unique()"
   ]
  },
  {
   "cell_type": "code",
   "execution_count": 19,
   "metadata": {},
   "outputs": [],
   "source": [
    "# Which part has more assets in Kerala?\n",
    "party_kerala = data[data['STATE']=='Kerala']"
   ]
  },
  {
   "cell_type": "code",
   "execution_count": 20,
   "metadata": {},
   "outputs": [],
   "source": [
    "party_assets_kerala = party_kerala.groupby('PARTY').mean()['ASSETS']"
   ]
  },
  {
   "cell_type": "code",
   "execution_count": 21,
   "metadata": {},
   "outputs": [
    {
     "data": {
      "text/plain": [
       "PARTY\n",
       "INC       5.792125e+07\n",
       "IUML      3.051790e+07\n",
       "KEC       2.764370e+07\n",
       "KEC(M)    2.602748e+07\n",
       "BJP       2.359935e+07\n",
       "RSP       1.750065e+07\n",
       "CPI(M)    1.745163e+07\n",
       "BDJS      5.633545e+06\n",
       "IND       5.436137e+06\n",
       "SDPI      2.094454e+06\n",
       "Name: ASSETS, dtype: float64"
      ]
     },
     "execution_count": 21,
     "metadata": {},
     "output_type": "execute_result"
    }
   ],
   "source": [
    "party_assets_kerala.sort_values(ascending=False)"
   ]
  },
  {
   "cell_type": "code",
   "execution_count": 22,
   "metadata": {},
   "outputs": [
    {
     "data": {
      "text/plain": [
       "PARTY\n",
       "ravp       9.120029e+08\n",
       "YSRCP      6.294556e+08\n",
       "TDP        5.777990e+08\n",
       "SAD        5.193560e+08\n",
       "TRS        4.587524e+08\n",
       "               ...     \n",
       "AKBMP      1.892000e+05\n",
       "SUCI(C)    1.555000e+05\n",
       "VCSMP      3.300000e+04\n",
       "CPIM       5.650000e+02\n",
       "TJS        0.000000e+00\n",
       "Name: ASSETS, Length: 132, dtype: float64"
      ]
     },
     "execution_count": 22,
     "metadata": {},
     "output_type": "execute_result"
    }
   ],
   "source": [
    "# Overall which party has the most assets?\n",
    "overall_party_assets = data.groupby('PARTY').mean()['ASSETS']\n",
    "overall_party_assets.sort_values(ascending = False)\n",
    "# ravp has the most assets "
   ]
  },
  {
   "cell_type": "markdown",
   "metadata": {},
   "source": [
    "## Age profiling of candidates"
   ]
  },
  {
   "cell_type": "code",
   "execution_count": 23,
   "metadata": {},
   "outputs": [
    {
     "data": {
      "text/plain": [
       "STATE                                           object\n",
       "CONSTITUENCY                                    object\n",
       "NAME                                            object\n",
       "WINNER                                           int64\n",
       "PARTY                                           object\n",
       "SYMBOL                                          object\n",
       "GENDER                                          object\n",
       "CRIMINAL\\r\\nCASES                              float64\n",
       "AGE                                            float64\n",
       "CATEGORY                                        object\n",
       "EDUCATION                                       object\n",
       "ASSETS                                         float64\n",
       "LIABILITIES                                    float64\n",
       "GENERAL\\r\\nVOTES                                 int64\n",
       "POSTAL\\r\\nVOTES                                  int64\n",
       "TOTAL\\r\\nVOTES                                   int64\n",
       "OVER TOTAL ELECTORS \\r\\nIN CONSTITUENCY        float64\n",
       "OVER TOTAL VOTES POLLED \\r\\nIN CONSTITUENCY    float64\n",
       "TOTAL ELECTORS                                   int64\n",
       "dtype: object"
      ]
     },
     "execution_count": 23,
     "metadata": {},
     "output_type": "execute_result"
    }
   ],
   "source": [
    "data.dtypes"
   ]
  },
  {
   "cell_type": "code",
   "execution_count": 24,
   "metadata": {},
   "outputs": [
    {
     "data": {
      "text/plain": [
       "AGE\n",
       "55.0    67\n",
       "52.0    66\n",
       "58.0    63\n",
       "46.0    62\n",
       "48.0    62\n",
       "Name: STATE, dtype: int64"
      ]
     },
     "execution_count": 24,
     "metadata": {},
     "output_type": "execute_result"
    }
   ],
   "source": [
    "# Which is the most occured age group in candidates?\n",
    "age_group = data.groupby('AGE').count()['STATE']\n",
    "age_group.sort_values(ascending = False).head()\n",
    "# Most occured age group ranges from 48 to 55"
   ]
  },
  {
   "cell_type": "code",
   "execution_count": 25,
   "metadata": {},
   "outputs": [
    {
     "data": {
      "text/plain": [
       "PARTY  AGE \n",
       "BJP    59.0    21\n",
       "       58.0    18\n",
       "       55.0    18\n",
       "       52.0    17\n",
       "       54.0    17\n",
       "               ..\n",
       "NAWPP  68.0     1\n",
       "MSHP   38.0     1\n",
       "MOSP   27.0     1\n",
       "MNM    72.0     1\n",
       "AAM    25.0     1\n",
       "Name: STATE, Length: 823, dtype: int64"
      ]
     },
     "execution_count": 25,
     "metadata": {},
     "output_type": "execute_result"
    }
   ],
   "source": [
    "# Which party has the most aged candidates?\n",
    "party_age = data.groupby(['PARTY','AGE']).count()['STATE']\n",
    "party_age.sort_values(ascending=False)\n",
    "# party with more aged candidates is BJP"
   ]
  },
  {
   "cell_type": "markdown",
   "metadata": {},
   "source": [
    "## Gender diversity"
   ]
  },
  {
   "cell_type": "code",
   "execution_count": 26,
   "metadata": {},
   "outputs": [
    {
     "data": {
      "text/plain": [
       "STATE                                           object\n",
       "CONSTITUENCY                                    object\n",
       "NAME                                            object\n",
       "WINNER                                           int64\n",
       "PARTY                                           object\n",
       "SYMBOL                                          object\n",
       "GENDER                                          object\n",
       "CRIMINAL\\r\\nCASES                              float64\n",
       "AGE                                            float64\n",
       "CATEGORY                                        object\n",
       "EDUCATION                                       object\n",
       "ASSETS                                         float64\n",
       "LIABILITIES                                    float64\n",
       "GENERAL\\r\\nVOTES                                 int64\n",
       "POSTAL\\r\\nVOTES                                  int64\n",
       "TOTAL\\r\\nVOTES                                   int64\n",
       "OVER TOTAL ELECTORS \\r\\nIN CONSTITUENCY        float64\n",
       "OVER TOTAL VOTES POLLED \\r\\nIN CONSTITUENCY    float64\n",
       "TOTAL ELECTORS                                   int64\n",
       "dtype: object"
      ]
     },
     "execution_count": 26,
     "metadata": {},
     "output_type": "execute_result"
    }
   ],
   "source": [
    "data.dtypes"
   ]
  },
  {
   "cell_type": "code",
   "execution_count": 27,
   "metadata": {},
   "outputs": [
    {
     "data": {
      "text/html": [
       "<div>\n",
       "<style scoped>\n",
       "    .dataframe tbody tr th:only-of-type {\n",
       "        vertical-align: middle;\n",
       "    }\n",
       "\n",
       "    .dataframe tbody tr th {\n",
       "        vertical-align: top;\n",
       "    }\n",
       "\n",
       "    .dataframe thead th {\n",
       "        text-align: right;\n",
       "    }\n",
       "</style>\n",
       "<table border=\"1\" class=\"dataframe\">\n",
       "  <thead>\n",
       "    <tr style=\"text-align: right;\">\n",
       "      <th></th>\n",
       "      <th>STATE</th>\n",
       "      <th>CONSTITUENCY</th>\n",
       "      <th>NAME</th>\n",
       "      <th>WINNER</th>\n",
       "      <th>PARTY</th>\n",
       "      <th>SYMBOL</th>\n",
       "      <th>CRIMINAL\\r\\nCASES</th>\n",
       "      <th>AGE</th>\n",
       "      <th>CATEGORY</th>\n",
       "      <th>EDUCATION</th>\n",
       "      <th>ASSETS</th>\n",
       "      <th>LIABILITIES</th>\n",
       "      <th>GENERAL\\r\\nVOTES</th>\n",
       "      <th>POSTAL\\r\\nVOTES</th>\n",
       "      <th>TOTAL\\r\\nVOTES</th>\n",
       "      <th>OVER TOTAL ELECTORS \\r\\nIN CONSTITUENCY</th>\n",
       "      <th>OVER TOTAL VOTES POLLED \\r\\nIN CONSTITUENCY</th>\n",
       "      <th>TOTAL ELECTORS</th>\n",
       "    </tr>\n",
       "    <tr>\n",
       "      <th>GENDER</th>\n",
       "      <th></th>\n",
       "      <th></th>\n",
       "      <th></th>\n",
       "      <th></th>\n",
       "      <th></th>\n",
       "      <th></th>\n",
       "      <th></th>\n",
       "      <th></th>\n",
       "      <th></th>\n",
       "      <th></th>\n",
       "      <th></th>\n",
       "      <th></th>\n",
       "      <th></th>\n",
       "      <th></th>\n",
       "      <th></th>\n",
       "      <th></th>\n",
       "      <th></th>\n",
       "      <th></th>\n",
       "    </tr>\n",
       "  </thead>\n",
       "  <tbody>\n",
       "    <tr>\n",
       "      <th>FEMALE</th>\n",
       "      <td>258</td>\n",
       "      <td>258</td>\n",
       "      <td>258</td>\n",
       "      <td>258</td>\n",
       "      <td>258</td>\n",
       "      <td>258</td>\n",
       "      <td>2</td>\n",
       "      <td>258</td>\n",
       "      <td>258</td>\n",
       "      <td>258</td>\n",
       "      <td>258</td>\n",
       "      <td>258</td>\n",
       "      <td>258</td>\n",
       "      <td>258</td>\n",
       "      <td>258</td>\n",
       "      <td>258</td>\n",
       "      <td>258</td>\n",
       "      <td>258</td>\n",
       "    </tr>\n",
       "    <tr>\n",
       "      <th>MALE</th>\n",
       "      <td>1760</td>\n",
       "      <td>1760</td>\n",
       "      <td>1760</td>\n",
       "      <td>1760</td>\n",
       "      <td>1760</td>\n",
       "      <td>1760</td>\n",
       "      <td>20</td>\n",
       "      <td>1760</td>\n",
       "      <td>1760</td>\n",
       "      <td>1760</td>\n",
       "      <td>1760</td>\n",
       "      <td>1760</td>\n",
       "      <td>1760</td>\n",
       "      <td>1760</td>\n",
       "      <td>1760</td>\n",
       "      <td>1760</td>\n",
       "      <td>1760</td>\n",
       "      <td>1760</td>\n",
       "    </tr>\n",
       "  </tbody>\n",
       "</table>\n",
       "</div>"
      ],
      "text/plain": [
       "        STATE  CONSTITUENCY  NAME  WINNER  PARTY  SYMBOL  CRIMINAL\\r\\nCASES  \\\n",
       "GENDER                                                                        \n",
       "FEMALE    258           258   258     258    258     258                  2   \n",
       "MALE     1760          1760  1760    1760   1760    1760                 20   \n",
       "\n",
       "         AGE  CATEGORY  EDUCATION  ASSETS  LIABILITIES  GENERAL\\r\\nVOTES  \\\n",
       "GENDER                                                                     \n",
       "FEMALE   258       258        258     258          258               258   \n",
       "MALE    1760      1760       1760    1760         1760              1760   \n",
       "\n",
       "        POSTAL\\r\\nVOTES  TOTAL\\r\\nVOTES  \\\n",
       "GENDER                                    \n",
       "FEMALE              258             258   \n",
       "MALE               1760            1760   \n",
       "\n",
       "        OVER TOTAL ELECTORS \\r\\nIN CONSTITUENCY  \\\n",
       "GENDER                                            \n",
       "FEMALE                                      258   \n",
       "MALE                                       1760   \n",
       "\n",
       "        OVER TOTAL VOTES POLLED \\r\\nIN CONSTITUENCY  TOTAL ELECTORS  \n",
       "GENDER                                                               \n",
       "FEMALE                                          258             258  \n",
       "MALE                                           1760            1760  "
      ]
     },
     "execution_count": 27,
     "metadata": {},
     "output_type": "execute_result"
    }
   ],
   "source": [
    "# How many  female and male candidates are participating in the election?\n",
    "gender_count = data.groupby('GENDER').count()\n",
    "gender_count"
   ]
  },
  {
   "cell_type": "code",
   "execution_count": 28,
   "metadata": {},
   "outputs": [
    {
     "data": {
      "text/plain": [
       "STATE\n",
       "West Bengal             37\n",
       "Uttar Pradesh           34\n",
       "Tamil Nadu              27\n",
       "Bihar                   21\n",
       "Maharashtra             19\n",
       "Odisha                  16\n",
       "Madhya Pradesh          13\n",
       "Andhra Pradesh          11\n",
       "Rajasthan                8\n",
       "Chhattisgarh             8\n",
       "Gujarat                  8\n",
       "Telangana                8\n",
       "Kerala                   7\n",
       "Jharkhand                7\n",
       "Punjab                   7\n",
       "Haryana                  6\n",
       "Karnataka                5\n",
       "Assam                    4\n",
       "NCT OF Delhi             3\n",
       "Tripura                  2\n",
       "Uttarakhand              1\n",
       "Puducherry               1\n",
       "Meghalaya                1\n",
       "Dadra & Nagar Haveli     1\n",
       "Chandigarh               1\n",
       "Arunachal Pradesh        1\n",
       "Jammu & Kashmir          1\n",
       "Name: GENDER, dtype: int64"
      ]
     },
     "execution_count": 28,
     "metadata": {},
     "output_type": "execute_result"
    }
   ],
   "source": [
    "# which state has more female candidates?\n",
    "state_female = data[data['GENDER']=='FEMALE']\n",
    "state_female_can = state_female.groupby('STATE').count()['GENDER']\n",
    "state_female_can.sort_values(ascending=False)\n",
    "# West Bengal has the most number of female candidates"
   ]
  },
  {
   "cell_type": "markdown",
   "metadata": {},
   "source": [
    "## Party vs seats"
   ]
  },
  {
   "cell_type": "code",
   "execution_count": 29,
   "metadata": {},
   "outputs": [
    {
     "data": {
      "text/plain": [
       "STATE                                           object\n",
       "CONSTITUENCY                                    object\n",
       "NAME                                            object\n",
       "WINNER                                           int64\n",
       "PARTY                                           object\n",
       "SYMBOL                                          object\n",
       "GENDER                                          object\n",
       "CRIMINAL\\r\\nCASES                              float64\n",
       "AGE                                            float64\n",
       "CATEGORY                                        object\n",
       "EDUCATION                                       object\n",
       "ASSETS                                         float64\n",
       "LIABILITIES                                    float64\n",
       "GENERAL\\r\\nVOTES                                 int64\n",
       "POSTAL\\r\\nVOTES                                  int64\n",
       "TOTAL\\r\\nVOTES                                   int64\n",
       "OVER TOTAL ELECTORS \\r\\nIN CONSTITUENCY        float64\n",
       "OVER TOTAL VOTES POLLED \\r\\nIN CONSTITUENCY    float64\n",
       "TOTAL ELECTORS                                   int64\n",
       "dtype: object"
      ]
     },
     "execution_count": 29,
     "metadata": {},
     "output_type": "execute_result"
    }
   ],
   "source": [
    "data.dtypes"
   ]
  },
  {
   "cell_type": "code",
   "execution_count": 30,
   "metadata": {},
   "outputs": [
    {
     "data": {
      "text/plain": [
       "PARTY\n",
       "BJP       300\n",
       "INC        52\n",
       "DMK        23\n",
       "YSRCP      22\n",
       "AITC       22\n",
       "SHS        18\n",
       "JD(U)      16\n",
       "BJD        11\n",
       "BSP        11\n",
       "TRS         9\n",
       "LJP         6\n",
       "SP          5\n",
       "CPI(M)      5\n",
       "NCP         5\n",
       "IND         4\n",
       "IUML        3\n",
       "JKN         3\n",
       "TDP         3\n",
       "SAD         2\n",
       "ADAL        2\n",
       "AIMIM       2\n",
       "JMM         1\n",
       "AIADMK      1\n",
       "AIUDF       1\n",
       "AJSUP       1\n",
       "SKM         1\n",
       "RSP         1\n",
       "VCK         1\n",
       "RLTP        1\n",
       "NPF         1\n",
       "NPEP        1\n",
       "NDPP        1\n",
       "MNF         1\n",
       "JD(S)       1\n",
       "KEC(M)      1\n",
       "AAP         1\n",
       "Name: STATE, dtype: int64"
      ]
     },
     "execution_count": 30,
     "metadata": {},
     "output_type": "execute_result"
    }
   ],
   "source": [
    "# Which party won the most number of seats?\n",
    "Winner_list = data[data['WINNER']== 1]\n",
    "Winner_by_party = Winner_list.groupby('PARTY').count()['STATE']\n",
    "Winner_by_party.sort_values(ascending=False)"
   ]
  },
  {
   "cell_type": "code",
   "execution_count": 31,
   "metadata": {},
   "outputs": [
    {
     "data": {
      "text/plain": [
       "STATE                                           object\n",
       "CONSTITUENCY                                    object\n",
       "NAME                                            object\n",
       "WINNER                                           int64\n",
       "PARTY                                           object\n",
       "SYMBOL                                          object\n",
       "GENDER                                          object\n",
       "CRIMINAL\\r\\nCASES                              float64\n",
       "AGE                                            float64\n",
       "CATEGORY                                        object\n",
       "EDUCATION                                       object\n",
       "ASSETS                                         float64\n",
       "LIABILITIES                                    float64\n",
       "GENERAL\\r\\nVOTES                                 int64\n",
       "POSTAL\\r\\nVOTES                                  int64\n",
       "TOTAL\\r\\nVOTES                                   int64\n",
       "OVER TOTAL ELECTORS \\r\\nIN CONSTITUENCY        float64\n",
       "OVER TOTAL VOTES POLLED \\r\\nIN CONSTITUENCY    float64\n",
       "TOTAL ELECTORS                                   int64\n",
       "dtype: object"
      ]
     },
     "execution_count": 31,
     "metadata": {},
     "output_type": "execute_result"
    }
   ],
   "source": [
    "data.dtypes"
   ]
  },
  {
   "cell_type": "code",
   "execution_count": 32,
   "metadata": {},
   "outputs": [
    {
     "data": {
      "text/plain": [
       "0              ADILABAD\n",
       "1              ADILABAD\n",
       "2              ADILABAD\n",
       "4                  AGRA\n",
       "5                  AGRA\n",
       "             ...       \n",
       "2257    YAVATMAL-WASHIM\n",
       "2258    YAVATMAL-WASHIM\n",
       "2259          ZAHIRABAD\n",
       "2260          ZAHIRABAD\n",
       "2261          ZAHIRABAD\n",
       "Name: CONSTITUENCY, Length: 2018, dtype: object"
      ]
     },
     "execution_count": 32,
     "metadata": {},
     "output_type": "execute_result"
    }
   ],
   "source": [
    "data['CONSTITUENCY']"
   ]
  },
  {
   "cell_type": "code",
   "execution_count": 33,
   "metadata": {},
   "outputs": [
    {
     "data": {
      "text/plain": [
       "STATE                      PARTY\n",
       "Uttar Pradesh              BJP      78\n",
       "Bihar                      IND      67\n",
       "Uttar Pradesh              INC      67\n",
       "Maharashtra                VBA      47\n",
       "West Bengal                BJP      42\n",
       "                                    ..\n",
       "Madhya Pradesh             ABGP      1\n",
       "Lakshadweep                NCP       1\n",
       "                           JD(U)     1\n",
       "                           INC       1\n",
       "Andaman & Nicobar Islands  AAP       1\n",
       "Name: CONSTITUENCY, Length: 302, dtype: int64"
      ]
     },
     "execution_count": 33,
     "metadata": {},
     "output_type": "execute_result"
    }
   ],
   "source": [
    "# which state has the most number of seats? and which party stood for the most seats?\n",
    "party_contested = data.groupby(['STATE','PARTY']).count()['CONSTITUENCY']\n",
    "party_contested.sort_values(ascending=False)"
   ]
  },
  {
   "cell_type": "code",
   "execution_count": 34,
   "metadata": {},
   "outputs": [
    {
     "data": {
      "text/plain": [
       "PARTY\n",
       "BJP       420\n",
       "INC       413\n",
       "IND       201\n",
       "BSP       163\n",
       "CPI(M)    100\n",
       "         ... \n",
       "SDF         1\n",
       "SJDD        1\n",
       "BSCP        1\n",
       "KEC(M)      1\n",
       "ravp        1\n",
       "Name: CONSTITUENCY, Length: 132, dtype: int64"
      ]
     },
     "execution_count": 34,
     "metadata": {},
     "output_type": "execute_result"
    }
   ],
   "source": [
    "# Which party participated in most seats?\n",
    "party_seats = data.groupby('PARTY').count()['CONSTITUENCY']\n",
    "party_seats.sort_values(ascending=False)\n",
    "# BJP and INC participated in most seats"
   ]
  },
  {
   "cell_type": "markdown",
   "metadata": {},
   "source": [
    "## Votes summary"
   ]
  },
  {
   "cell_type": "code",
   "execution_count": 35,
   "metadata": {},
   "outputs": [
    {
     "data": {
      "text/plain": [
       "PARTY\n",
       "RLTP      655496.000000\n",
       "AJSUP     646864.000000\n",
       "YSRCP     616578.120000\n",
       "DMK       599560.521739\n",
       "BJP       542675.021429\n",
       "              ...      \n",
       "AKBMP      10109.000000\n",
       "ABSKP       9910.000000\n",
       "BBMP        9886.000000\n",
       "BARESP      9563.000000\n",
       "ravp        9096.000000\n",
       "Name: GENERAL\\r\\nVOTES, Length: 132, dtype: float64"
      ]
     },
     "execution_count": 35,
     "metadata": {},
     "output_type": "execute_result"
    }
   ],
   "source": [
    "# Partywise average general votes count\n",
    "votes = data.groupby('PARTY').mean()['GENERAL\\r\\nVOTES']\n",
    "votes.sort_values(ascending=False)"
   ]
  },
  {
   "cell_type": "code",
   "execution_count": 36,
   "metadata": {},
   "outputs": [
    {
     "data": {
      "text/plain": [
       "PARTY  STATE                    \n",
       "BJP    Rajasthan                    785317.166667\n",
       "       Madhya Pradesh               736409.068966\n",
       "       Haryana                      731726.900000\n",
       "       NCT OF Delhi                 699578.714286\n",
       "       Gujarat                      692394.384615\n",
       "                                        ...      \n",
       "SHS    Dadra & Nagar Haveli           4000.000000\n",
       "INC    Sikkim                         3922.000000\n",
       "AAP    Andaman & Nicobar Islands      2837.000000\n",
       "BSP    Andaman & Nicobar Islands      2478.000000\n",
       "JD(U)  Lakshadweep                    1339.000000\n",
       "Name: GENERAL\\r\\nVOTES, Length: 302, dtype: float64"
      ]
     },
     "execution_count": 36,
     "metadata": {},
     "output_type": "execute_result"
    }
   ],
   "source": [
    "# Partywise  average general votes in each state\n",
    "votes_states = data.groupby(['PARTY','STATE']).mean()['GENERAL\\r\\nVOTES']\n",
    "votes_states.sort_values(ascending=False)"
   ]
  },
  {
   "cell_type": "code",
   "execution_count": 37,
   "metadata": {},
   "outputs": [
    {
     "data": {
      "text/plain": [
       "CATEGORY  STATE                    \n",
       "ST        Himachal Pradesh             712133.000000\n",
       "GENERAL   Rajasthan                    518955.452381\n",
       "          Karnataka                    511123.220000\n",
       "          Assam                        460229.379310\n",
       "ST        Karnataka                    452963.800000\n",
       "                                           ...      \n",
       "          Sikkim                        16062.000000\n",
       "          Bihar                         15585.000000\n",
       "          Lakshadweep                   15371.666667\n",
       "SC        Chandigarh                     7391.000000\n",
       "          Andaman & Nicobar Islands      2478.000000\n",
       "Name: GENERAL\\r\\nVOTES, Length: 80, dtype: float64"
      ]
     },
     "execution_count": 37,
     "metadata": {},
     "output_type": "execute_result"
    }
   ],
   "source": [
    "# Categorywise general vote share in each states\n",
    "category_vote = data.groupby(['CATEGORY','STATE']).mean()['GENERAL\\r\\nVOTES']\n",
    "category_vote.sort_values(ascending=False)"
   ]
  },
  {
   "cell_type": "markdown",
   "metadata": {},
   "source": [
    "## Significance of education"
   ]
  },
  {
   "cell_type": "code",
   "execution_count": 38,
   "metadata": {},
   "outputs": [
    {
     "data": {
      "text/plain": [
       "EDUCATION\n",
       "Post Graduate            134\n",
       "Graduate                 132\n",
       "Graduate Professional     99\n",
       "12th Pass                 69\n",
       "10th Pass                 45\n",
       "Doctorate                 23\n",
       "Others                    17\n",
       "8th Pass                  12\n",
       "5th Pass                   4\n",
       "Literate                   2\n",
       "Post Graduate\\r\\n          1\n",
       "Illiterate                 1\n",
       "Name: GENDER, dtype: int64"
      ]
     },
     "execution_count": 38,
     "metadata": {},
     "output_type": "execute_result"
    }
   ],
   "source": [
    "# What type of education does the winner candidates posses mostly ?\n",
    "win_candidates = data[data['WINNER']==1]\n",
    "edu_winner = win_candidates.groupby('EDUCATION').count()['GENDER']\n",
    "edu_winner.sort_values(ascending=False)\n",
    "# Most winnerr candidates are Post Graduate or Graduate"
   ]
  },
  {
   "cell_type": "code",
   "execution_count": 39,
   "metadata": {},
   "outputs": [
    {
     "data": {
      "text/plain": [
       "PARTY\n",
       "BJP       77\n",
       "INC       15\n",
       "YSRCP      8\n",
       "DMK        6\n",
       "AITC       5\n",
       "JD(U)      3\n",
       "SHS        3\n",
       "BSP        2\n",
       "SP         2\n",
       "BJD        2\n",
       "SAD        1\n",
       "NPEP       1\n",
       "NCP        1\n",
       "JKN        1\n",
       "TRS        1\n",
       "SKM        1\n",
       "AIUDF      1\n",
       "TDP        1\n",
       "AIMIM      1\n",
       "AIADMK     1\n",
       "ADAL       1\n",
       "Name: WINNER, dtype: int64"
      ]
     },
     "execution_count": 39,
     "metadata": {},
     "output_type": "execute_result"
    }
   ],
   "source": [
    "# Which party has most winners with Post Graduation?\n",
    "pg_edu = win_candidates[win_candidates['EDUCATION']=='Post Graduate']\n",
    "party_edu = pg_edu.groupby('PARTY').count()['WINNER']\n",
    "party_edu.sort_values(ascending=False)"
   ]
  },
  {
   "cell_type": "code",
   "execution_count": 40,
   "metadata": {},
   "outputs": [],
   "source": [
    "# Most Post Graduates who won are with BJP party who got most seats in the election , so out of 420 seats 77 of them are Post graduates"
   ]
  },
  {
   "cell_type": "code",
   "execution_count": 41,
   "metadata": {},
   "outputs": [
    {
     "data": {
      "text/html": [
       "<div>\n",
       "<style scoped>\n",
       "    .dataframe tbody tr th:only-of-type {\n",
       "        vertical-align: middle;\n",
       "    }\n",
       "\n",
       "    .dataframe tbody tr th {\n",
       "        vertical-align: top;\n",
       "    }\n",
       "\n",
       "    .dataframe thead th {\n",
       "        text-align: right;\n",
       "    }\n",
       "</style>\n",
       "<table border=\"1\" class=\"dataframe\">\n",
       "  <thead>\n",
       "    <tr style=\"text-align: right;\">\n",
       "      <th></th>\n",
       "      <th>STATE</th>\n",
       "      <th>CONSTITUENCY</th>\n",
       "      <th>NAME</th>\n",
       "      <th>WINNER</th>\n",
       "      <th>PARTY</th>\n",
       "      <th>SYMBOL</th>\n",
       "      <th>GENDER</th>\n",
       "      <th>CRIMINAL\\r\\nCASES</th>\n",
       "      <th>AGE</th>\n",
       "      <th>CATEGORY</th>\n",
       "      <th>EDUCATION</th>\n",
       "      <th>ASSETS</th>\n",
       "      <th>LIABILITIES</th>\n",
       "      <th>GENERAL\\r\\nVOTES</th>\n",
       "      <th>POSTAL\\r\\nVOTES</th>\n",
       "      <th>TOTAL\\r\\nVOTES</th>\n",
       "      <th>OVER TOTAL ELECTORS \\r\\nIN CONSTITUENCY</th>\n",
       "      <th>OVER TOTAL VOTES POLLED \\r\\nIN CONSTITUENCY</th>\n",
       "      <th>TOTAL ELECTORS</th>\n",
       "    </tr>\n",
       "  </thead>\n",
       "  <tbody>\n",
       "    <tr>\n",
       "      <th>0</th>\n",
       "      <td>Telangana</td>\n",
       "      <td>ADILABAD</td>\n",
       "      <td>SOYAM BAPU RAO</td>\n",
       "      <td>1</td>\n",
       "      <td>BJP</td>\n",
       "      <td>Lotus</td>\n",
       "      <td>MALE</td>\n",
       "      <td>NaN</td>\n",
       "      <td>52.0</td>\n",
       "      <td>ST</td>\n",
       "      <td>12th Pass</td>\n",
       "      <td>3099414.0</td>\n",
       "      <td>231450.0</td>\n",
       "      <td>376892</td>\n",
       "      <td>482</td>\n",
       "      <td>377374</td>\n",
       "      <td>25.330684</td>\n",
       "      <td>35.468248</td>\n",
       "      <td>1489790</td>\n",
       "    </tr>\n",
       "    <tr>\n",
       "      <th>1</th>\n",
       "      <td>Telangana</td>\n",
       "      <td>ADILABAD</td>\n",
       "      <td>Godam Nagesh</td>\n",
       "      <td>0</td>\n",
       "      <td>TRS</td>\n",
       "      <td>Car</td>\n",
       "      <td>MALE</td>\n",
       "      <td>NaN</td>\n",
       "      <td>54.0</td>\n",
       "      <td>ST</td>\n",
       "      <td>Post Graduate</td>\n",
       "      <td>18477888.0</td>\n",
       "      <td>847000.0</td>\n",
       "      <td>318665</td>\n",
       "      <td>149</td>\n",
       "      <td>318814</td>\n",
       "      <td>21.399929</td>\n",
       "      <td>29.964370</td>\n",
       "      <td>1489790</td>\n",
       "    </tr>\n",
       "    <tr>\n",
       "      <th>2</th>\n",
       "      <td>Telangana</td>\n",
       "      <td>ADILABAD</td>\n",
       "      <td>RATHOD RAMESH</td>\n",
       "      <td>0</td>\n",
       "      <td>INC</td>\n",
       "      <td>Hand</td>\n",
       "      <td>MALE</td>\n",
       "      <td>NaN</td>\n",
       "      <td>52.0</td>\n",
       "      <td>ST</td>\n",
       "      <td>12th Pass</td>\n",
       "      <td>36491000.0</td>\n",
       "      <td>15300000.0</td>\n",
       "      <td>314057</td>\n",
       "      <td>181</td>\n",
       "      <td>314238</td>\n",
       "      <td>21.092771</td>\n",
       "      <td>29.534285</td>\n",
       "      <td>1489790</td>\n",
       "    </tr>\n",
       "    <tr>\n",
       "      <th>4</th>\n",
       "      <td>Uttar Pradesh</td>\n",
       "      <td>AGRA</td>\n",
       "      <td>Satyapal Singh Baghel</td>\n",
       "      <td>1</td>\n",
       "      <td>BJP</td>\n",
       "      <td>Lotus</td>\n",
       "      <td>MALE</td>\n",
       "      <td>NaN</td>\n",
       "      <td>58.0</td>\n",
       "      <td>SC</td>\n",
       "      <td>Doctorate</td>\n",
       "      <td>74274036.0</td>\n",
       "      <td>8606522.0</td>\n",
       "      <td>644459</td>\n",
       "      <td>2416</td>\n",
       "      <td>646875</td>\n",
       "      <td>33.383823</td>\n",
       "      <td>56.464615</td>\n",
       "      <td>1937690</td>\n",
       "    </tr>\n",
       "    <tr>\n",
       "      <th>5</th>\n",
       "      <td>Uttar Pradesh</td>\n",
       "      <td>AGRA</td>\n",
       "      <td>Manoj Kumar Soni</td>\n",
       "      <td>0</td>\n",
       "      <td>BSP</td>\n",
       "      <td>Elephant</td>\n",
       "      <td>MALE</td>\n",
       "      <td>NaN</td>\n",
       "      <td>47.0</td>\n",
       "      <td>SC</td>\n",
       "      <td>Post Graduate</td>\n",
       "      <td>133784385.0</td>\n",
       "      <td>22251891.0</td>\n",
       "      <td>434199</td>\n",
       "      <td>1130</td>\n",
       "      <td>435329</td>\n",
       "      <td>22.466390</td>\n",
       "      <td>37.999125</td>\n",
       "      <td>1937690</td>\n",
       "    </tr>\n",
       "  </tbody>\n",
       "</table>\n",
       "</div>"
      ],
      "text/plain": [
       "           STATE CONSTITUENCY                   NAME  WINNER PARTY    SYMBOL  \\\n",
       "0      Telangana     ADILABAD         SOYAM BAPU RAO       1   BJP     Lotus   \n",
       "1      Telangana     ADILABAD           Godam Nagesh       0   TRS       Car   \n",
       "2      Telangana     ADILABAD          RATHOD RAMESH       0   INC      Hand   \n",
       "4  Uttar Pradesh         AGRA  Satyapal Singh Baghel       1   BJP     Lotus   \n",
       "5  Uttar Pradesh         AGRA       Manoj Kumar Soni       0   BSP  Elephant   \n",
       "\n",
       "  GENDER  CRIMINAL\\r\\nCASES   AGE CATEGORY      EDUCATION       ASSETS  \\\n",
       "0   MALE                NaN  52.0       ST      12th Pass    3099414.0   \n",
       "1   MALE                NaN  54.0       ST  Post Graduate   18477888.0   \n",
       "2   MALE                NaN  52.0       ST      12th Pass   36491000.0   \n",
       "4   MALE                NaN  58.0       SC      Doctorate   74274036.0   \n",
       "5   MALE                NaN  47.0       SC  Post Graduate  133784385.0   \n",
       "\n",
       "   LIABILITIES  GENERAL\\r\\nVOTES  POSTAL\\r\\nVOTES  TOTAL\\r\\nVOTES  \\\n",
       "0     231450.0            376892              482          377374   \n",
       "1     847000.0            318665              149          318814   \n",
       "2   15300000.0            314057              181          314238   \n",
       "4    8606522.0            644459             2416          646875   \n",
       "5   22251891.0            434199             1130          435329   \n",
       "\n",
       "   OVER TOTAL ELECTORS \\r\\nIN CONSTITUENCY  \\\n",
       "0                                25.330684   \n",
       "1                                21.399929   \n",
       "2                                21.092771   \n",
       "4                                33.383823   \n",
       "5                                22.466390   \n",
       "\n",
       "   OVER TOTAL VOTES POLLED \\r\\nIN CONSTITUENCY  TOTAL ELECTORS  \n",
       "0                                    35.468248         1489790  \n",
       "1                                    29.964370         1489790  \n",
       "2                                    29.534285         1489790  \n",
       "4                                    56.464615         1937690  \n",
       "5                                    37.999125         1937690  "
      ]
     },
     "execution_count": 41,
     "metadata": {},
     "output_type": "execute_result"
    }
   ],
   "source": [
    "data.head()"
   ]
  },
  {
   "cell_type": "markdown",
   "metadata": {},
   "source": [
    "## Polling percent analysis"
   ]
  },
  {
   "cell_type": "code",
   "execution_count": 42,
   "metadata": {},
   "outputs": [
    {
     "data": {
      "text/plain": [
       "CONSTITUENCY\n",
       "ADILABAD           31.655634\n",
       "AGRA               32.801573\n",
       "AHMADNAGAR         32.049930\n",
       "AHMEDABAD EAST     47.599512\n",
       "AHMEDABAD WEST     32.415730\n",
       "                     ...    \n",
       "WARDHA             24.295092\n",
       "WAYANAD            32.327348\n",
       "WEST DELHI         32.459637\n",
       "YAVATMAL-WASHIM    15.893019\n",
       "ZAHIRABAD          31.951561\n",
       "Name: OVER TOTAL VOTES POLLED \\r\\nIN CONSTITUENCY, Length: 539, dtype: float64"
      ]
     },
     "execution_count": 42,
     "metadata": {},
     "output_type": "execute_result"
    }
   ],
   "source": [
    "# Overall polling in each constituency\n",
    "over_poll = data.groupby('CONSTITUENCY').mean()['OVER TOTAL VOTES POLLED \\r\\nIN CONSTITUENCY']\n",
    "over_poll"
   ]
  },
  {
   "cell_type": "code",
   "execution_count": 43,
   "metadata": {},
   "outputs": [
    {
     "data": {
      "text/plain": [
       "STATE\n",
       "Andaman & Nicobar Islands    19.274535\n",
       "Andhra Pradesh               23.859807\n",
       "Arunachal Pradesh            19.430240\n",
       "Assam                        30.648396\n",
       "Bihar                        17.100894\n",
       "Chandigarh                   23.902082\n",
       "Chhattisgarh                 27.454306\n",
       "Dadra & Nagar Haveli         15.944833\n",
       "Daman & Diu                  32.463351\n",
       "Goa                          32.347543\n",
       "Gujarat                      35.994909\n",
       "Haryana                      23.610810\n",
       "Himachal Pradesh             42.913850\n",
       "Jammu & Kashmir              20.563938\n",
       "Jharkhand                    20.294923\n",
       "Karnataka                    37.365404\n",
       "Kerala                       31.143921\n",
       "Lakshadweep                  32.762727\n",
       "Madhya Pradesh               29.852306\n",
       "Maharashtra                  26.368325\n",
       "Manipur                      19.730939\n",
       "Meghalaya                    32.697587\n",
       "Mizoram                      19.791745\n",
       "NCT OF Delhi                 28.566881\n",
       "Nagaland                     33.076444\n",
       "Odisha                       27.776975\n",
       "Puducherry                   23.829396\n",
       "Punjab                       23.427787\n",
       "Rajasthan                    32.759709\n",
       "Sikkim                       24.190612\n",
       "Tamil Nadu                   19.265635\n",
       "Telangana                    21.953972\n",
       "Tripura                      23.948161\n",
       "Uttar Pradesh                30.820859\n",
       "Uttarakhand                  34.404277\n",
       "West Bengal                  23.503812\n",
       "Name: OVER TOTAL VOTES POLLED \\r\\nIN CONSTITUENCY, dtype: float64"
      ]
     },
     "execution_count": 43,
     "metadata": {},
     "output_type": "execute_result"
    }
   ],
   "source": [
    "# Overall polling in each states\n",
    "over_poll_states = data.groupby('STATE').mean()['OVER TOTAL VOTES POLLED \\r\\nIN CONSTITUENCY']\n",
    "over_poll_states"
   ]
  },
  {
   "cell_type": "code",
   "execution_count": null,
   "metadata": {},
   "outputs": [],
   "source": []
  }
 ],
 "metadata": {
  "kernelspec": {
   "display_name": "Python 3",
   "language": "python",
   "name": "python3"
  },
  "language_info": {
   "codemirror_mode": {
    "name": "ipython",
    "version": 3
   },
   "file_extension": ".py",
   "mimetype": "text/x-python",
   "name": "python",
   "nbconvert_exporter": "python",
   "pygments_lexer": "ipython3",
   "version": "3.8.3"
  }
 },
 "nbformat": 4,
 "nbformat_minor": 4
}
