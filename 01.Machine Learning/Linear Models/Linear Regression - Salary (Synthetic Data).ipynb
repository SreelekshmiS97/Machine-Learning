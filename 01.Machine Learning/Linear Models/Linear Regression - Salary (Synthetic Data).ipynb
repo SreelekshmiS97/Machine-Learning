{
 "cells": [
  {
   "cell_type": "code",
   "execution_count": 1,
   "metadata": {},
   "outputs": [],
   "source": [
    "#to avoid warnings\n",
    "import warnings\n",
    "warnings.filterwarnings(\"ignore\")"
   ]
  },
  {
   "cell_type": "code",
   "execution_count": 2,
   "metadata": {},
   "outputs": [],
   "source": [
    "import pandas as pd\n",
    "import matplotlib.pyplot as plt"
   ]
  },
  {
   "cell_type": "code",
   "execution_count": 3,
   "metadata": {},
   "outputs": [],
   "source": [
    "data=pd.read_csv(\"data/salary_synteticdata.csv\")"
   ]
  },
  {
   "cell_type": "code",
   "execution_count": 4,
   "metadata": {},
   "outputs": [
    {
     "data": {
      "text/html": [
       "<div>\n",
       "<style scoped>\n",
       "    .dataframe tbody tr th:only-of-type {\n",
       "        vertical-align: middle;\n",
       "    }\n",
       "\n",
       "    .dataframe tbody tr th {\n",
       "        vertical-align: top;\n",
       "    }\n",
       "\n",
       "    .dataframe thead th {\n",
       "        text-align: right;\n",
       "    }\n",
       "</style>\n",
       "<table border=\"1\" class=\"dataframe\">\n",
       "  <thead>\n",
       "    <tr style=\"text-align: right;\">\n",
       "      <th></th>\n",
       "      <th>Age</th>\n",
       "      <th>Salary</th>\n",
       "    </tr>\n",
       "  </thead>\n",
       "  <tbody>\n",
       "    <tr>\n",
       "      <th>0</th>\n",
       "      <td>52</td>\n",
       "      <td>94500</td>\n",
       "    </tr>\n",
       "    <tr>\n",
       "      <th>1</th>\n",
       "      <td>45</td>\n",
       "      <td>82250</td>\n",
       "    </tr>\n",
       "    <tr>\n",
       "      <th>2</th>\n",
       "      <td>33</td>\n",
       "      <td>61250</td>\n",
       "    </tr>\n",
       "    <tr>\n",
       "      <th>3</th>\n",
       "      <td>47</td>\n",
       "      <td>85750</td>\n",
       "    </tr>\n",
       "    <tr>\n",
       "      <th>4</th>\n",
       "      <td>37</td>\n",
       "      <td>68250</td>\n",
       "    </tr>\n",
       "  </tbody>\n",
       "</table>\n",
       "</div>"
      ],
      "text/plain": [
       "   Age  Salary\n",
       "0   52   94500\n",
       "1   45   82250\n",
       "2   33   61250\n",
       "3   47   85750\n",
       "4   37   68250"
      ]
     },
     "execution_count": 4,
     "metadata": {},
     "output_type": "execute_result"
    }
   ],
   "source": [
    "data.head()"
   ]
  },
  {
   "cell_type": "code",
   "execution_count": 5,
   "metadata": {},
   "outputs": [
    {
     "data": {
      "text/plain": [
       "(1000, 2)"
      ]
     },
     "execution_count": 5,
     "metadata": {},
     "output_type": "execute_result"
    }
   ],
   "source": [
    "data.shape"
   ]
  },
  {
   "cell_type": "code",
   "execution_count": 6,
   "metadata": {},
   "outputs": [
    {
     "data": {
      "text/plain": [
       "{'whiskers': [<matplotlib.lines.Line2D at 0x7f3d2dcb6820>,\n",
       "  <matplotlib.lines.Line2D at 0x7f3d2dcb6b80>],\n",
       " 'caps': [<matplotlib.lines.Line2D at 0x7f3d2dcb6ee0>,\n",
       "  <matplotlib.lines.Line2D at 0x7f3d2dc4e280>],\n",
       " 'boxes': [<matplotlib.lines.Line2D at 0x7f3d2dcb64c0>],\n",
       " 'medians': [<matplotlib.lines.Line2D at 0x7f3d2dc4e5e0>],\n",
       " 'fliers': [<matplotlib.lines.Line2D at 0x7f3d2dc4e8e0>],\n",
       " 'means': []}"
      ]
     },
     "execution_count": 6,
     "metadata": {},
     "output_type": "execute_result"
    },
    {
     "data": {
      "image/png": "[encoded data removed]",
      "text/plain": [
       "<Figure size 432x288 with 1 Axes>"
      ]
     },
     "metadata": {
      "needs_background": "light"
     },
     "output_type": "display_data"
    }
   ],
   "source": [
    "plt.boxplot(data['Salary']) #there are no outliers since the data is synthetic"
   ]
  },
  {
   "cell_type": "code",
   "execution_count": 7,
   "metadata": {},
   "outputs": [
    {
     "data": {
      "text/plain": [
       "{'whiskers': [<matplotlib.lines.Line2D at 0x7f3d2dbc8520>,\n",
       "  <matplotlib.lines.Line2D at 0x7f3d2dbc8880>],\n",
       " 'caps': [<matplotlib.lines.Line2D at 0x7f3d2dbc8be0>,\n",
       "  <matplotlib.lines.Line2D at 0x7f3d2dbc8f40>],\n",
       " 'boxes': [<matplotlib.lines.Line2D at 0x7f3d2dbc81c0>],\n",
       " 'medians': [<matplotlib.lines.Line2D at 0x7f3d2dbd32e0>],\n",
       " 'fliers': [<matplotlib.lines.Line2D at 0x7f3d2dbd35e0>],\n",
       " 'means': []}"
      ]
     },
     "execution_count": 7,
     "metadata": {},
     "output_type": "execute_result"
    },
    {
     "data": {
      "image/png": "[encoded data removed]",
      "text/plain": [
       "<Figure size 432x288 with 1 Axes>"
      ]
     },
     "metadata": {
      "needs_background": "light"
     },
     "output_type": "display_data"
    }
   ],
   "source": [
    "plt.boxplot(data['Age']) ##there are no outliers since the data is synthetic"
   ]
  },
  {
   "cell_type": "code",
   "execution_count": 8,
   "metadata": {},
   "outputs": [
    {
     "data": {
      "text/plain": [
       "[<matplotlib.lines.Line2D at 0x7f3d2dbac1c0>]"
      ]
     },
     "execution_count": 8,
     "metadata": {},
     "output_type": "execute_result"
    },
    {
     "data": {
      "image/png": "[encoded data removed]",
      "text/plain": [
       "<Figure size 432x288 with 1 Axes>"
      ]
     },
     "metadata": {
      "needs_background": "light"
     },
     "output_type": "display_data"
    }
   ],
   "source": [
    "plt.plot(data['Age'],data['Salary']) #data has a good liner relationship"
   ]
  },
  {
   "cell_type": "code",
   "execution_count": 9,
   "metadata": {},
   "outputs": [
    {
     "data": {
      "text/html": [
       "<div>\n",
       "<style scoped>\n",
       "    .dataframe tbody tr th:only-of-type {\n",
       "        vertical-align: middle;\n",
       "    }\n",
       "\n",
       "    .dataframe tbody tr th {\n",
       "        vertical-align: top;\n",
       "    }\n",
       "\n",
       "    .dataframe thead th {\n",
       "        text-align: right;\n",
       "    }\n",
       "</style>\n",
       "<table border=\"1\" class=\"dataframe\">\n",
       "  <thead>\n",
       "    <tr style=\"text-align: right;\">\n",
       "      <th></th>\n",
       "      <th>Age</th>\n",
       "      <th>Salary</th>\n",
       "    </tr>\n",
       "  </thead>\n",
       "  <tbody>\n",
       "    <tr>\n",
       "      <th>Age</th>\n",
       "      <td>1.0</td>\n",
       "      <td>1.0</td>\n",
       "    </tr>\n",
       "    <tr>\n",
       "      <th>Salary</th>\n",
       "      <td>1.0</td>\n",
       "      <td>1.0</td>\n",
       "    </tr>\n",
       "  </tbody>\n",
       "</table>\n",
       "</div>"
      ],
      "text/plain": [
       "        Age  Salary\n",
       "Age     1.0     1.0\n",
       "Salary  1.0     1.0"
      ]
     },
     "execution_count": 9,
     "metadata": {},
     "output_type": "execute_result"
    }
   ],
   "source": [
    "data.corr() #data has a correlation of 1"
   ]
  },
  {
   "cell_type": "code",
   "execution_count": 10,
   "metadata": {},
   "outputs": [],
   "source": [
    "#split the data into X and y\n",
    "X=data['Age']\n",
    "y=data['Salary']"
   ]
  },
  {
   "cell_type": "code",
   "execution_count": 11,
   "metadata": {},
   "outputs": [],
   "source": [
    "X=X.values.reshape(-1, 1) #X should be an array or dataframe"
   ]
  },
  {
   "cell_type": "code",
   "execution_count": 12,
   "metadata": {},
   "outputs": [
    {
     "data": {
      "text/plain": [
       "(1000, 1)"
      ]
     },
     "execution_count": 12,
     "metadata": {},
     "output_type": "execute_result"
    }
   ],
   "source": [
    "X.shape"
   ]
  },
  {
   "cell_type": "code",
   "execution_count": 13,
   "metadata": {},
   "outputs": [
    {
     "data": {
      "text/plain": [
       "0    94500\n",
       "1    82250\n",
       "2    61250\n",
       "3    85750\n",
       "4    68250\n",
       "Name: Salary, dtype: int64"
      ]
     },
     "execution_count": 13,
     "metadata": {},
     "output_type": "execute_result"
    }
   ],
   "source": [
    "y.head()"
   ]
  },
  {
   "cell_type": "markdown",
   "metadata": {},
   "source": [
    "# split the data into train and test sets"
   ]
  },
  {
   "cell_type": "code",
   "execution_count": 14,
   "metadata": {},
   "outputs": [],
   "source": [
    "from sklearn.model_selection import train_test_split\n",
    "X_train, X_test, y_train, y_test = train_test_split(X, y, test_size=0.25) #0.75 data will be for training."
   ]
  },
  {
   "cell_type": "code",
   "execution_count": 15,
   "metadata": {},
   "outputs": [
    {
     "data": {
      "text/plain": [
       "(750, 1)"
      ]
     },
     "execution_count": 15,
     "metadata": {},
     "output_type": "execute_result"
    }
   ],
   "source": [
    "X_train.shape"
   ]
  },
  {
   "cell_type": "code",
   "execution_count": 16,
   "metadata": {},
   "outputs": [
    {
     "data": {
      "text/plain": [
       "(250, 1)"
      ]
     },
     "execution_count": 16,
     "metadata": {},
     "output_type": "execute_result"
    }
   ],
   "source": [
    "X_test.shape"
   ]
  },
  {
   "cell_type": "markdown",
   "metadata": {},
   "source": [
    "## Use Linear Regression for modelling"
   ]
  },
  {
   "cell_type": "code",
   "execution_count": 17,
   "metadata": {},
   "outputs": [
    {
     "data": {
      "text/plain": [
       "LinearRegression()"
      ]
     },
     "execution_count": 17,
     "metadata": {},
     "output_type": "execute_result"
    }
   ],
   "source": [
    "from sklearn.linear_model import LinearRegression\n",
    "reg = LinearRegression() #creating object of LinearRegression\n",
    "reg.fit(X_train,y_train) #training and fitting LR object using training data\n",
    "\n",
    "#fit command is used for training a model using train data."
   ]
  },
  {
   "cell_type": "code",
   "execution_count": 18,
   "metadata": {},
   "outputs": [
    {
     "data": {
      "text/plain": [
       "array([1750.])"
      ]
     },
     "execution_count": 18,
     "metadata": {},
     "output_type": "execute_result"
    }
   ],
   "source": [
    "#coeeficients of liner regression - m\n",
    "reg.coef_"
   ]
  },
  {
   "cell_type": "code",
   "execution_count": 19,
   "metadata": {},
   "outputs": [
    {
     "data": {
      "text/plain": [
       "3500.000000000029"
      ]
     },
     "execution_count": 19,
     "metadata": {},
     "output_type": "execute_result"
    }
   ],
   "source": [
    "#intercept of liner regression - c\n",
    "reg.intercept_\n"
   ]
  },
  {
   "cell_type": "code",
   "execution_count": 20,
   "metadata": {},
   "outputs": [],
   "source": [
    "ypred=reg.predict(X_test)  #predicting the salary for testing data"
   ]
  },
  {
   "cell_type": "code",
   "execution_count": 21,
   "metadata": {},
   "outputs": [
    {
     "data": {
      "text/plain": [
       "array([99750., 63000., 40250., 66500., 54250., 75250., 94500., 52500.,\n",
       "       78750., 73500., 84000., 45500., 78750., 68250., 66500., 94500.,\n",
       "       40250., 71750., 70000., 80500., 73500., 91000., 54250., 47250.,\n",
       "       78750., 57750., 94500., 45500., 68250., 42000., 61250., 50750.,\n",
       "       63000., 56000., 61250., 52500., 66500., 80500., 98000., 40250.,\n",
       "       70000., 64750., 75250., 70000., 63000., 77000., 87500., 89250.,\n",
       "       77000., 50750., 70000., 98000., 98000., 89250., 57750., 38500.,\n",
       "       40250., 87500., 52500., 40250., 61250., 49000., 91000., 77000.,\n",
       "       64750., 77000., 96250., 59500., 78750., 91000., 45500., 59500.,\n",
       "       96250., 61250., 68250., 45500., 38500., 84000., 78750., 82250.,\n",
       "       59500., 54250., 99750., 78750., 57750., 63000., 89250., 56000.,\n",
       "       54250., 82250., 52500., 57750., 70000., 61250., 80500., 71750.,\n",
       "       47250., 45500., 85750., 70000., 56000., 75250., 84000., 50750.,\n",
       "       96250., 94500., 40250., 64750., 99750., 84000., 71750., 82250.,\n",
       "       45500., 85750., 73500., 66500., 94500., 40250., 77000., 85750.,\n",
       "       47250., 56000., 80500., 87500., 47250., 47250., 66500., 43750.,\n",
       "       73500., 56000., 70000., 75250., 77000., 56000., 99750., 63000.,\n",
       "       77000., 91000., 59500., 89250., 84000., 98000., 96250., 63000.,\n",
       "       42000., 38500., 75250., 61250., 59500., 87500., 40250., 78750.,\n",
       "       87500., 45500., 61250., 71750., 49000., 38500., 75250., 82250.,\n",
       "       82250., 61250., 85750., 45500., 78750., 85750., 52500., 59500.,\n",
       "       49000., 57750., 45500., 45500., 78750., 89250., 87500., 73500.,\n",
       "       52500., 99750., 43750., 98000., 82250., 40250., 61250., 66500.,\n",
       "       64750., 92750., 94500., 92750., 52500., 49000., 57750., 91000.,\n",
       "       70000., 82250., 84000., 73500., 73500., 84000., 61250., 99750.,\n",
       "       91000., 68250., 68250., 38500., 87500., 78750., 54250., 42000.,\n",
       "       43750., 56000., 42000., 38500., 99750., 47250., 94500., 87500.,\n",
       "       52500., 63000., 54250., 40250., 94500., 54250., 38500., 87500.,\n",
       "       59500., 89250., 64750., 61250., 45500., 63000., 49000., 91000.,\n",
       "       77000., 77000., 99750., 49000., 59500., 38500., 89250., 85750.,\n",
       "       87500., 68250., 63000., 63000., 43750., 49000., 45500., 94500.,\n",
       "       57750., 38500.])"
      ]
     },
     "execution_count": 21,
     "metadata": {},
     "output_type": "execute_result"
    }
   ],
   "source": [
    "ypred"
   ]
  },
  {
   "cell_type": "code",
   "execution_count": 22,
   "metadata": {},
   "outputs": [
    {
     "name": "stdout",
     "output_type": "stream",
     "text": [
      "MSE: 6.903318520122548e-23\n"
     ]
    }
   ],
   "source": [
    "from sklearn.metrics import mean_squared_error #calculating MSE\n",
    "MSE=mean_squared_error(ypred,y_test)\n",
    "print(\"MSE:\",MSE)"
   ]
  },
  {
   "cell_type": "code",
   "execution_count": 23,
   "metadata": {},
   "outputs": [
    {
     "data": {
      "text/plain": [
       "6.903318520122548e-23"
      ]
     },
     "execution_count": 23,
     "metadata": {},
     "output_type": "execute_result"
    }
   ],
   "source": [
    "sum((y_test-ypred)**2)/len(ypred) #this is how we can calculate MSE."
   ]
  },
  {
   "cell_type": "code",
   "execution_count": 24,
   "metadata": {},
   "outputs": [
    {
     "data": {
      "text/html": [
       "<div>\n",
       "<style scoped>\n",
       "    .dataframe tbody tr th:only-of-type {\n",
       "        vertical-align: middle;\n",
       "    }\n",
       "\n",
       "    .dataframe tbody tr th {\n",
       "        vertical-align: top;\n",
       "    }\n",
       "\n",
       "    .dataframe thead th {\n",
       "        text-align: right;\n",
       "    }\n",
       "</style>\n",
       "<table border=\"1\" class=\"dataframe\">\n",
       "  <thead>\n",
       "    <tr style=\"text-align: right;\">\n",
       "      <th></th>\n",
       "      <th>index</th>\n",
       "      <th>Actual</th>\n",
       "      <th>Predicted</th>\n",
       "      <th>Age</th>\n",
       "      <th>Id</th>\n",
       "    </tr>\n",
       "  </thead>\n",
       "  <tbody>\n",
       "    <tr>\n",
       "      <th>0</th>\n",
       "      <td>145</td>\n",
       "      <td>99750</td>\n",
       "      <td>99750.0</td>\n",
       "      <td>55</td>\n",
       "      <td>0</td>\n",
       "    </tr>\n",
       "    <tr>\n",
       "      <th>1</th>\n",
       "      <td>253</td>\n",
       "      <td>63000</td>\n",
       "      <td>63000.0</td>\n",
       "      <td>34</td>\n",
       "      <td>1</td>\n",
       "    </tr>\n",
       "    <tr>\n",
       "      <th>2</th>\n",
       "      <td>72</td>\n",
       "      <td>40250</td>\n",
       "      <td>40250.0</td>\n",
       "      <td>21</td>\n",
       "      <td>2</td>\n",
       "    </tr>\n",
       "    <tr>\n",
       "      <th>3</th>\n",
       "      <td>756</td>\n",
       "      <td>66500</td>\n",
       "      <td>66500.0</td>\n",
       "      <td>36</td>\n",
       "      <td>3</td>\n",
       "    </tr>\n",
       "    <tr>\n",
       "      <th>4</th>\n",
       "      <td>185</td>\n",
       "      <td>54250</td>\n",
       "      <td>54250.0</td>\n",
       "      <td>29</td>\n",
       "      <td>4</td>\n",
       "    </tr>\n",
       "  </tbody>\n",
       "</table>\n",
       "</div>"
      ],
      "text/plain": [
       "   index  Actual  Predicted  Age  Id\n",
       "0    145   99750    99750.0   55   0\n",
       "1    253   63000    63000.0   34   1\n",
       "2     72   40250    40250.0   21   2\n",
       "3    756   66500    66500.0   36   3\n",
       "4    185   54250    54250.0   29   4"
      ]
     },
     "execution_count": 24,
     "metadata": {},
     "output_type": "execute_result"
    }
   ],
   "source": [
    "Results= pd.DataFrame(columns=['Actual','Predicted','Age'])\n",
    "Results['Actual']=y_test\n",
    "Results['Predicted']=ypred\n",
    "Results['Age']=X_test\n",
    "Results=Results.reset_index()\n",
    "Results['Id']=Results.index\n",
    "Results.head()"
   ]
  },
  {
   "cell_type": "code",
   "execution_count": 25,
   "metadata": {},
   "outputs": [
    {
     "data": {
      "text/plain": [
       "[]"
      ]
     },
     "execution_count": 25,
     "metadata": {},
     "output_type": "execute_result"
    },
    {
     "data": {
      "image/png": "[encoded data removed]",
      "text/plain": [
       "<Figure size 432x288 with 1 Axes>"
      ]
     },
     "metadata": {
      "needs_background": "light"
     },
     "output_type": "display_data"
    }
   ],
   "source": [
    "import seaborn as sns\n",
    "import matplotlib.pyplot as plt\n",
    "sns.lineplot(x='Age',y='Actual',data=Results)\n",
    "sns.lineplot(x='Age',y='Predicted',data=Results)\n",
    "plt.plot()"
   ]
  },
  {
   "cell_type": "code",
   "execution_count": null,
   "metadata": {},
   "outputs": [],
   "source": []
  }
 ],
 "metadata": {
  "kernelspec": {
   "display_name": "Python 3",
   "language": "python",
   "name": "python3"
  },
  "language_info": {
   "codemirror_mode": {
    "name": "ipython",
    "version": 3
   },
   "file_extension": ".py",
   "mimetype": "text/x-python",
   "name": "python",
   "nbconvert_exporter": "python",
   "pygments_lexer": "ipython3",
   "version": "3.8.3"
  }
 },
 "nbformat": 4,
 "nbformat_minor": 4
}
